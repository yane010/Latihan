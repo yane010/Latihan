{
 "cells": [
  {
   "cell_type": "markdown",
   "metadata": {},
   "source": [
    "Nama    : Yane Indriani\n",
    "Batch   : RMT-032"
   ]
  },
  {
   "cell_type": "code",
   "execution_count": 1,
   "metadata": {},
   "outputs": [],
   "source": [
    "nama =[]\n",
    "kategori = []\n",
    "harga =[]\n",
    "\n",
    "    \n",
    "def pilihan1():\n",
    "    nama = input(\"Masukkan nama barang: \")\n",
    "    kategori = input(\"Masukkan kategori barang: \")\n",
    "    harga = input(\"Masukkan harga (Rupiah): \")\n",
    "\n",
    "def pilihan2(data):\n",
    "    if (len(data) == 0):\n",
    "        print (\"Data belum tersedia, silahkan pilih menu 1 untuk isi data\") \n",
    "    else:\n",
    "        print(nama|kategori|harga)\n",
    "\n",
    "while True:\n",
    "    print(\"============================\")\n",
    "    print ('Program Inventory manajemen')\n",
    "    print(\"============================\")\n",
    "    print('Input Data:')\n",
    "    print(\"Menu:\")\n",
    "    print(\"1. Input Data\")\n",
    "    print(\"2. Manampilkan Data\")\n",
    "    pilihan = input(\"Pilihan menu atau exit: \")\n",
    "    if pilihan == 1:\n",
    "        pilihan1()\n",
    "    elif pilihan == 2:\n",
    "        pilihan2()\n",
    "    elif pilihan == exit:\n",
    "        break\n",
    "\n"
   ]
  }
 ],
 "metadata": {
  "kernelspec": {
   "display_name": "base",
   "language": "python",
   "name": "python3"
  },
  "language_info": {
   "codemirror_mode": {
    "name": "ipython",
    "version": 3
   },
   "file_extension": ".py",
   "mimetype": "text/x-python",
   "name": "python",
   "nbconvert_exporter": "python",
   "pygments_lexer": "ipython3",
   "version": "3.11.7"
  }
 },
 "nbformat": 4,
 "nbformat_minor": 2
}
