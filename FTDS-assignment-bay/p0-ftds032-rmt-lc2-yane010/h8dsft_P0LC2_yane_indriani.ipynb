{
  "nbformat": 4,
  "nbformat_minor": 0,
  "metadata": {
    "colab": {
      "provenance": [],
      "authorship_tag": "ABX9TyP/e/Z2MiXbcOfH838+dsm5",
      "include_colab_link": true
    },
    "kernelspec": {
      "name": "python3",
      "display_name": "Python 3"
    },
    "language_info": {
      "name": "python"
    }
  },
  "cells": [
    {
      "cell_type": "markdown",
      "metadata": {
        "id": "view-in-github",
        "colab_type": "text"
      },
      "source": [
        "<a href=\"https://colab.research.google.com/github/yane010/Latihan/blob/main/FTDS-assignment-bay/p0-ftds032-rmt-lc2-yane010/h8dsft_P0LC2_yane_indriani.ipynb\" target=\"_parent\"><img src=\"https://colab.research.google.com/assets/colab-badge.svg\" alt=\"Open In Colab\"/></a>"
      ]
    },
    {
      "cell_type": "markdown",
      "source": [
        "**PERKENALAN**\n",
        "\n",
        "---\n",
        "\n",
        "\n",
        "**LIVE CODE 2**\n",
        "\n",
        "\n",
        "\n",
        "---\n",
        "\n",
        "\n",
        "Nama  : Yane Indriani ---\n",
        "Batch : RMT-032\n",
        "\n",
        "---\n",
        "\n",
        "\n",
        "PROGRAM INI DI BUAT UNTUK MENGANALISA DATA PERJALANAN DARI PENYEDIA JASA TRANSPORTASI"
      ],
      "metadata": {
        "id": "Glv8Mk0F81fg"
      }
    },
    {
      "cell_type": "code",
      "execution_count": 1,
      "metadata": {
        "colab": {
          "base_uri": "https://localhost:8080/"
        },
        "id": "XSVXUzTV5lDr",
        "outputId": "ac5b2499-280e-4f9b-b6a3-66e82703eeca"
      },
      "outputs": [
        {
          "output_type": "stream",
          "name": "stdout",
          "text": [
            "Authenticated\n"
          ]
        }
      ],
      "source": [
        "from google.colab import auth\n",
        "from google.cloud import bigquery\n",
        "auth.authenticate_user()\n",
        "print('Authenticated')\n",
        "\n",
        "project_id_akun = \"regal-box-422502-t6\" #GUNAKAN GCP PROJECT-ID KALIAN MASING-MASING\n",
        "client = bigquery.Client(project=project_id_akun)"
      ]
    },
    {
      "cell_type": "code",
      "source": [
        "import pandas as pd\n",
        "import numpy as np\n"
      ],
      "metadata": {
        "id": "5Buf8HlN8B-I"
      },
      "execution_count": 42,
      "outputs": []
    },
    {
      "cell_type": "code",
      "source": [
        "df = client.query('''\n",
        "SELECT *\n",
        "FROM `ftds-hacktiv8-project.phase0_ftds_032_rmt.taxi_fare`\n",
        "''').to_dataframe()\n",
        "\n",
        "df.head()"
      ],
      "metadata": {
        "colab": {
          "base_uri": "https://localhost:8080/",
          "height": 206
        },
        "id": "znlq_dH469e_",
        "outputId": "5755a046-e781-408a-afe5-60a3354698be"
      },
      "execution_count": 6,
      "outputs": [
        {
          "output_type": "execute_result",
          "data": {
            "text/plain": [
              "  unique_key taxi_id      trip_start_timestamp        trip_end_timestamp  \\\n",
              "0     DP-250     D-7 2021-05-18 19:30:00+00:00 2021-05-18 19:45:00+00:00   \n",
              "1     DP-289     D-7 2021-05-30 15:15:00+00:00 2021-05-30 15:45:00+00:00   \n",
              "2     DP-316     D-7 2021-06-05 19:30:00+00:00 2021-06-05 19:45:00+00:00   \n",
              "3     DP-354     D-7 2021-06-13 13:45:00+00:00 2021-06-13 14:15:00+00:00   \n",
              "4     DP-501     D-7 2021-07-07 15:15:00+00:00 2021-07-07 15:30:00+00:00   \n",
              "\n",
              "     trip_km   fare  tips payment_type       company  \\\n",
              "0   3.057746   9.00   0.0         Cash  Deluc Porter   \n",
              "1  21.082354  35.50   0.0         Cash  Deluc Porter   \n",
              "2   7.242030  14.00   0.0         Cash  Deluc Porter   \n",
              "3  22.369826  37.25   0.0  Credit Card  Deluc Porter   \n",
              "4   3.218680   9.00   0.0         Cash  Deluc Porter   \n",
              "\n",
              "                       pickup_location                      dropoff_location  \n",
              "0  POINT (-87.6333080367 41.899602111)   POINT (-87.6635175498 41.874005383)  \n",
              "1  POINT (-87.913624596 41.9802643146)   POINT (-87.6950125892 42.001571027)  \n",
              "2  POINT (-87.913624596 41.9802643146)  POINT (-87.8045320063 41.9850151008)  \n",
              "3  POINT (-87.913624596 41.9802643146)  POINT (-87.6559981815 41.9442266014)  \n",
              "4  POINT (-87.6333080367 41.899602111)   POINT (-87.6635175498 41.874005383)  "
            ],
            "text/html": [
              "\n",
              "  <div id=\"df-52265123-448e-42ae-82e2-31a7a93189b7\" class=\"colab-df-container\">\n",
              "    <div>\n",
              "<style scoped>\n",
              "    .dataframe tbody tr th:only-of-type {\n",
              "        vertical-align: middle;\n",
              "    }\n",
              "\n",
              "    .dataframe tbody tr th {\n",
              "        vertical-align: top;\n",
              "    }\n",
              "\n",
              "    .dataframe thead th {\n",
              "        text-align: right;\n",
              "    }\n",
              "</style>\n",
              "<table border=\"1\" class=\"dataframe\">\n",
              "  <thead>\n",
              "    <tr style=\"text-align: right;\">\n",
              "      <th></th>\n",
              "      <th>unique_key</th>\n",
              "      <th>taxi_id</th>\n",
              "      <th>trip_start_timestamp</th>\n",
              "      <th>trip_end_timestamp</th>\n",
              "      <th>trip_km</th>\n",
              "      <th>fare</th>\n",
              "      <th>tips</th>\n",
              "      <th>payment_type</th>\n",
              "      <th>company</th>\n",
              "      <th>pickup_location</th>\n",
              "      <th>dropoff_location</th>\n",
              "    </tr>\n",
              "  </thead>\n",
              "  <tbody>\n",
              "    <tr>\n",
              "      <th>0</th>\n",
              "      <td>DP-250</td>\n",
              "      <td>D-7</td>\n",
              "      <td>2021-05-18 19:30:00+00:00</td>\n",
              "      <td>2021-05-18 19:45:00+00:00</td>\n",
              "      <td>3.057746</td>\n",
              "      <td>9.00</td>\n",
              "      <td>0.0</td>\n",
              "      <td>Cash</td>\n",
              "      <td>Deluc Porter</td>\n",
              "      <td>POINT (-87.6333080367 41.899602111)</td>\n",
              "      <td>POINT (-87.6635175498 41.874005383)</td>\n",
              "    </tr>\n",
              "    <tr>\n",
              "      <th>1</th>\n",
              "      <td>DP-289</td>\n",
              "      <td>D-7</td>\n",
              "      <td>2021-05-30 15:15:00+00:00</td>\n",
              "      <td>2021-05-30 15:45:00+00:00</td>\n",
              "      <td>21.082354</td>\n",
              "      <td>35.50</td>\n",
              "      <td>0.0</td>\n",
              "      <td>Cash</td>\n",
              "      <td>Deluc Porter</td>\n",
              "      <td>POINT (-87.913624596 41.9802643146)</td>\n",
              "      <td>POINT (-87.6950125892 42.001571027)</td>\n",
              "    </tr>\n",
              "    <tr>\n",
              "      <th>2</th>\n",
              "      <td>DP-316</td>\n",
              "      <td>D-7</td>\n",
              "      <td>2021-06-05 19:30:00+00:00</td>\n",
              "      <td>2021-06-05 19:45:00+00:00</td>\n",
              "      <td>7.242030</td>\n",
              "      <td>14.00</td>\n",
              "      <td>0.0</td>\n",
              "      <td>Cash</td>\n",
              "      <td>Deluc Porter</td>\n",
              "      <td>POINT (-87.913624596 41.9802643146)</td>\n",
              "      <td>POINT (-87.8045320063 41.9850151008)</td>\n",
              "    </tr>\n",
              "    <tr>\n",
              "      <th>3</th>\n",
              "      <td>DP-354</td>\n",
              "      <td>D-7</td>\n",
              "      <td>2021-06-13 13:45:00+00:00</td>\n",
              "      <td>2021-06-13 14:15:00+00:00</td>\n",
              "      <td>22.369826</td>\n",
              "      <td>37.25</td>\n",
              "      <td>0.0</td>\n",
              "      <td>Credit Card</td>\n",
              "      <td>Deluc Porter</td>\n",
              "      <td>POINT (-87.913624596 41.9802643146)</td>\n",
              "      <td>POINT (-87.6559981815 41.9442266014)</td>\n",
              "    </tr>\n",
              "    <tr>\n",
              "      <th>4</th>\n",
              "      <td>DP-501</td>\n",
              "      <td>D-7</td>\n",
              "      <td>2021-07-07 15:15:00+00:00</td>\n",
              "      <td>2021-07-07 15:30:00+00:00</td>\n",
              "      <td>3.218680</td>\n",
              "      <td>9.00</td>\n",
              "      <td>0.0</td>\n",
              "      <td>Cash</td>\n",
              "      <td>Deluc Porter</td>\n",
              "      <td>POINT (-87.6333080367 41.899602111)</td>\n",
              "      <td>POINT (-87.6635175498 41.874005383)</td>\n",
              "    </tr>\n",
              "  </tbody>\n",
              "</table>\n",
              "</div>\n",
              "    <div class=\"colab-df-buttons\">\n",
              "\n",
              "  <div class=\"colab-df-container\">\n",
              "    <button class=\"colab-df-convert\" onclick=\"convertToInteractive('df-52265123-448e-42ae-82e2-31a7a93189b7')\"\n",
              "            title=\"Convert this dataframe to an interactive table.\"\n",
              "            style=\"display:none;\">\n",
              "\n",
              "  <svg xmlns=\"http://www.w3.org/2000/svg\" height=\"24px\" viewBox=\"0 -960 960 960\">\n",
              "    <path d=\"M120-120v-720h720v720H120Zm60-500h600v-160H180v160Zm220 220h160v-160H400v160Zm0 220h160v-160H400v160ZM180-400h160v-160H180v160Zm440 0h160v-160H620v160ZM180-180h160v-160H180v160Zm440 0h160v-160H620v160Z\"/>\n",
              "  </svg>\n",
              "    </button>\n",
              "\n",
              "  <style>\n",
              "    .colab-df-container {\n",
              "      display:flex;\n",
              "      gap: 12px;\n",
              "    }\n",
              "\n",
              "    .colab-df-convert {\n",
              "      background-color: #E8F0FE;\n",
              "      border: none;\n",
              "      border-radius: 50%;\n",
              "      cursor: pointer;\n",
              "      display: none;\n",
              "      fill: #1967D2;\n",
              "      height: 32px;\n",
              "      padding: 0 0 0 0;\n",
              "      width: 32px;\n",
              "    }\n",
              "\n",
              "    .colab-df-convert:hover {\n",
              "      background-color: #E2EBFA;\n",
              "      box-shadow: 0px 1px 2px rgba(60, 64, 67, 0.3), 0px 1px 3px 1px rgba(60, 64, 67, 0.15);\n",
              "      fill: #174EA6;\n",
              "    }\n",
              "\n",
              "    .colab-df-buttons div {\n",
              "      margin-bottom: 4px;\n",
              "    }\n",
              "\n",
              "    [theme=dark] .colab-df-convert {\n",
              "      background-color: #3B4455;\n",
              "      fill: #D2E3FC;\n",
              "    }\n",
              "\n",
              "    [theme=dark] .colab-df-convert:hover {\n",
              "      background-color: #434B5C;\n",
              "      box-shadow: 0px 1px 3px 1px rgba(0, 0, 0, 0.15);\n",
              "      filter: drop-shadow(0px 1px 2px rgba(0, 0, 0, 0.3));\n",
              "      fill: #FFFFFF;\n",
              "    }\n",
              "  </style>\n",
              "\n",
              "    <script>\n",
              "      const buttonEl =\n",
              "        document.querySelector('#df-52265123-448e-42ae-82e2-31a7a93189b7 button.colab-df-convert');\n",
              "      buttonEl.style.display =\n",
              "        google.colab.kernel.accessAllowed ? 'block' : 'none';\n",
              "\n",
              "      async function convertToInteractive(key) {\n",
              "        const element = document.querySelector('#df-52265123-448e-42ae-82e2-31a7a93189b7');\n",
              "        const dataTable =\n",
              "          await google.colab.kernel.invokeFunction('convertToInteractive',\n",
              "                                                    [key], {});\n",
              "        if (!dataTable) return;\n",
              "\n",
              "        const docLinkHtml = 'Like what you see? Visit the ' +\n",
              "          '<a target=\"_blank\" href=https://colab.research.google.com/notebooks/data_table.ipynb>data table notebook</a>'\n",
              "          + ' to learn more about interactive tables.';\n",
              "        element.innerHTML = '';\n",
              "        dataTable['output_type'] = 'display_data';\n",
              "        await google.colab.output.renderOutput(dataTable, element);\n",
              "        const docLink = document.createElement('div');\n",
              "        docLink.innerHTML = docLinkHtml;\n",
              "        element.appendChild(docLink);\n",
              "      }\n",
              "    </script>\n",
              "  </div>\n",
              "\n",
              "\n",
              "<div id=\"df-bc722b45-e4c5-4e09-8687-5388a692bbbf\">\n",
              "  <button class=\"colab-df-quickchart\" onclick=\"quickchart('df-bc722b45-e4c5-4e09-8687-5388a692bbbf')\"\n",
              "            title=\"Suggest charts\"\n",
              "            style=\"display:none;\">\n",
              "\n",
              "<svg xmlns=\"http://www.w3.org/2000/svg\" height=\"24px\"viewBox=\"0 0 24 24\"\n",
              "     width=\"24px\">\n",
              "    <g>\n",
              "        <path d=\"M19 3H5c-1.1 0-2 .9-2 2v14c0 1.1.9 2 2 2h14c1.1 0 2-.9 2-2V5c0-1.1-.9-2-2-2zM9 17H7v-7h2v7zm4 0h-2V7h2v10zm4 0h-2v-4h2v4z\"/>\n",
              "    </g>\n",
              "</svg>\n",
              "  </button>\n",
              "\n",
              "<style>\n",
              "  .colab-df-quickchart {\n",
              "      --bg-color: #E8F0FE;\n",
              "      --fill-color: #1967D2;\n",
              "      --hover-bg-color: #E2EBFA;\n",
              "      --hover-fill-color: #174EA6;\n",
              "      --disabled-fill-color: #AAA;\n",
              "      --disabled-bg-color: #DDD;\n",
              "  }\n",
              "\n",
              "  [theme=dark] .colab-df-quickchart {\n",
              "      --bg-color: #3B4455;\n",
              "      --fill-color: #D2E3FC;\n",
              "      --hover-bg-color: #434B5C;\n",
              "      --hover-fill-color: #FFFFFF;\n",
              "      --disabled-bg-color: #3B4455;\n",
              "      --disabled-fill-color: #666;\n",
              "  }\n",
              "\n",
              "  .colab-df-quickchart {\n",
              "    background-color: var(--bg-color);\n",
              "    border: none;\n",
              "    border-radius: 50%;\n",
              "    cursor: pointer;\n",
              "    display: none;\n",
              "    fill: var(--fill-color);\n",
              "    height: 32px;\n",
              "    padding: 0;\n",
              "    width: 32px;\n",
              "  }\n",
              "\n",
              "  .colab-df-quickchart:hover {\n",
              "    background-color: var(--hover-bg-color);\n",
              "    box-shadow: 0 1px 2px rgba(60, 64, 67, 0.3), 0 1px 3px 1px rgba(60, 64, 67, 0.15);\n",
              "    fill: var(--button-hover-fill-color);\n",
              "  }\n",
              "\n",
              "  .colab-df-quickchart-complete:disabled,\n",
              "  .colab-df-quickchart-complete:disabled:hover {\n",
              "    background-color: var(--disabled-bg-color);\n",
              "    fill: var(--disabled-fill-color);\n",
              "    box-shadow: none;\n",
              "  }\n",
              "\n",
              "  .colab-df-spinner {\n",
              "    border: 2px solid var(--fill-color);\n",
              "    border-color: transparent;\n",
              "    border-bottom-color: var(--fill-color);\n",
              "    animation:\n",
              "      spin 1s steps(1) infinite;\n",
              "  }\n",
              "\n",
              "  @keyframes spin {\n",
              "    0% {\n",
              "      border-color: transparent;\n",
              "      border-bottom-color: var(--fill-color);\n",
              "      border-left-color: var(--fill-color);\n",
              "    }\n",
              "    20% {\n",
              "      border-color: transparent;\n",
              "      border-left-color: var(--fill-color);\n",
              "      border-top-color: var(--fill-color);\n",
              "    }\n",
              "    30% {\n",
              "      border-color: transparent;\n",
              "      border-left-color: var(--fill-color);\n",
              "      border-top-color: var(--fill-color);\n",
              "      border-right-color: var(--fill-color);\n",
              "    }\n",
              "    40% {\n",
              "      border-color: transparent;\n",
              "      border-right-color: var(--fill-color);\n",
              "      border-top-color: var(--fill-color);\n",
              "    }\n",
              "    60% {\n",
              "      border-color: transparent;\n",
              "      border-right-color: var(--fill-color);\n",
              "    }\n",
              "    80% {\n",
              "      border-color: transparent;\n",
              "      border-right-color: var(--fill-color);\n",
              "      border-bottom-color: var(--fill-color);\n",
              "    }\n",
              "    90% {\n",
              "      border-color: transparent;\n",
              "      border-bottom-color: var(--fill-color);\n",
              "    }\n",
              "  }\n",
              "</style>\n",
              "\n",
              "  <script>\n",
              "    async function quickchart(key) {\n",
              "      const quickchartButtonEl =\n",
              "        document.querySelector('#' + key + ' button');\n",
              "      quickchartButtonEl.disabled = true;  // To prevent multiple clicks.\n",
              "      quickchartButtonEl.classList.add('colab-df-spinner');\n",
              "      try {\n",
              "        const charts = await google.colab.kernel.invokeFunction(\n",
              "            'suggestCharts', [key], {});\n",
              "      } catch (error) {\n",
              "        console.error('Error during call to suggestCharts:', error);\n",
              "      }\n",
              "      quickchartButtonEl.classList.remove('colab-df-spinner');\n",
              "      quickchartButtonEl.classList.add('colab-df-quickchart-complete');\n",
              "    }\n",
              "    (() => {\n",
              "      let quickchartButtonEl =\n",
              "        document.querySelector('#df-bc722b45-e4c5-4e09-8687-5388a692bbbf button');\n",
              "      quickchartButtonEl.style.display =\n",
              "        google.colab.kernel.accessAllowed ? 'block' : 'none';\n",
              "    })();\n",
              "  </script>\n",
              "</div>\n",
              "    </div>\n",
              "  </div>\n"
            ],
            "application/vnd.google.colaboratory.intrinsic+json": {
              "type": "dataframe",
              "variable_name": "df",
              "summary": "{\n  \"name\": \"df\",\n  \"rows\": 9286,\n  \"fields\": [\n    {\n      \"column\": \"unique_key\",\n      \"properties\": {\n        \"dtype\": \"string\",\n        \"num_unique_values\": 9286,\n        \"samples\": [\n          \"DP-563\",\n          \"RA-4581\",\n          \"DP-1201\"\n        ],\n        \"semantic_type\": \"\",\n        \"description\": \"\"\n      }\n    },\n    {\n      \"column\": \"taxi_id\",\n      \"properties\": {\n        \"dtype\": \"category\",\n        \"num_unique_values\": 378,\n        \"samples\": [\n          \"AI-763\",\n          \"RA-318\",\n          \"RA-284\"\n        ],\n        \"semantic_type\": \"\",\n        \"description\": \"\"\n      }\n    },\n    {\n      \"column\": \"trip_start_timestamp\",\n      \"properties\": {\n        \"dtype\": \"date\",\n        \"min\": \"2021-01-02 11:00:00+00:00\",\n        \"max\": \"2022-12-31 14:15:00+00:00\",\n        \"num_unique_values\": 8126,\n        \"samples\": [\n          \"2022-06-05 18:15:00+00:00\",\n          \"2022-04-28 20:30:00+00:00\",\n          \"2022-06-08 15:00:00+00:00\"\n        ],\n        \"semantic_type\": \"\",\n        \"description\": \"\"\n      }\n    },\n    {\n      \"column\": \"trip_end_timestamp\",\n      \"properties\": {\n        \"dtype\": \"date\",\n        \"min\": \"2021-01-02 11:30:00+00:00\",\n        \"max\": \"2022-12-31 14:45:00+00:00\",\n        \"num_unique_values\": 8078,\n        \"samples\": [\n          \"2022-08-06 21:00:00+00:00\",\n          \"2022-05-25 19:30:00+00:00\",\n          \"2021-04-04 19:30:00+00:00\"\n        ],\n        \"semantic_type\": \"\",\n        \"description\": \"\"\n      }\n    },\n    {\n      \"column\": \"trip_km\",\n      \"properties\": {\n        \"dtype\": \"number\",\n        \"std\": 11.551632841350406,\n        \"min\": 0.160934,\n        \"max\": 99.296278,\n        \"num_unique_values\": 276,\n        \"samples\": [\n          1.931208,\n          4.02335,\n          32.1868\n        ],\n        \"semantic_type\": \"\",\n        \"description\": \"\"\n      }\n    },\n    {\n      \"column\": \"fare\",\n      \"properties\": {\n        \"dtype\": \"number\",\n        \"std\": 16.603498334058116,\n        \"min\": 0.0,\n        \"max\": 146.0,\n        \"num_unique_values\": 274,\n        \"samples\": [\n          10.0,\n          0.01,\n          19.25\n        ],\n        \"semantic_type\": \"\",\n        \"description\": \"\"\n      }\n    },\n    {\n      \"column\": \"tips\",\n      \"properties\": {\n        \"dtype\": \"number\",\n        \"std\": 4.251692977299002,\n        \"min\": 0.0,\n        \"max\": 100.0,\n        \"num_unique_values\": 370,\n        \"samples\": [\n          4.95,\n          12.0,\n          5.5\n        ],\n        \"semantic_type\": \"\",\n        \"description\": \"\"\n      }\n    },\n    {\n      \"column\": \"payment_type\",\n      \"properties\": {\n        \"dtype\": \"category\",\n        \"num_unique_values\": 5,\n        \"samples\": [\n          \"Credit Card\",\n          \"No Charge\",\n          \"Unknown\"\n        ],\n        \"semantic_type\": \"\",\n        \"description\": \"\"\n      }\n    },\n    {\n      \"column\": \"company\",\n      \"properties\": {\n        \"dtype\": \"category\",\n        \"num_unique_values\": 5,\n        \"samples\": [\n          \"Synctaxi Inc.\",\n          \"Rocket Cab Auto\",\n          \"Atomic Inc.\"\n        ],\n        \"semantic_type\": \"\",\n        \"description\": \"\"\n      }\n    },\n    {\n      \"column\": \"pickup_location\",\n      \"properties\": {\n        \"dtype\": \"category\",\n        \"num_unique_values\": 79,\n        \"samples\": [\n          \"POINT (-87.6129454143 41.8919715078)\",\n          \"POINT (-87.6333080367 41.899602111)\",\n          \"POINT (-87.6763559892 41.9012069941)\"\n        ],\n        \"semantic_type\": \"\",\n        \"description\": \"\"\n      }\n    },\n    {\n      \"column\": \"dropoff_location\",\n      \"properties\": {\n        \"dtype\": \"category\",\n        \"num_unique_values\": 162,\n        \"samples\": [\n          \"POINT (-87.6513108767 41.9290469366)\",\n          \"POINT (-87.6486268165 41.8270879119)\",\n          \"POINT (-87.6530217894 41.9581548757)\"\n        ],\n        \"semantic_type\": \"\",\n        \"description\": \"\"\n      }\n    }\n  ]\n}"
            }
          },
          "metadata": {},
          "execution_count": 6
        }
      ]
    },
    {
      "cell_type": "markdown",
      "source": [
        "#**ANSWER**"
      ],
      "metadata": {
        "id": "8Oj2wZTS93Eg"
      }
    },
    {
      "cell_type": "code",
      "source": [
        "#1. Apa saja nama perusahaan yang terdapat dalam data?\n",
        "'''value_counts digunakan untuk menampilkan berapa banyak nama perusahaan di tabel company'''\n",
        "df.company.value_counts()\n"
      ],
      "metadata": {
        "colab": {
          "base_uri": "https://localhost:8080/"
        },
        "id": "ghSHlBTs9__G",
        "outputId": "9e0e2cfa-8d7b-4581-fe4b-ce4c2f273152"
      },
      "execution_count": 41,
      "outputs": [
        {
          "output_type": "execute_result",
          "data": {
            "text/plain": [
              "company\n",
              "Federway Int.      2383\n",
              "Deluc Porter       2152\n",
              "Synctaxi Inc.      1778\n",
              "Rocket Cab Auto    1522\n",
              "Atomic Inc.        1451\n",
              "Name: count, dtype: int64"
            ]
          },
          "metadata": {},
          "execution_count": 41
        }
      ]
    },
    {
      "cell_type": "code",
      "source": [
        "#2. Berapa nilai minimum dan maksimum dari waktu pengambilan data?\n",
        "'''.min untuk menampilkan nilai minimum dari waktu dimulai perjalanan'''\n",
        "df.trip_start_timestamp.min()"
      ],
      "metadata": {
        "colab": {
          "base_uri": "https://localhost:8080/"
        },
        "id": "W5n2CmoXH1u4",
        "outputId": "906762a9-ec00-4900-ae29-1760aca144ab"
      },
      "execution_count": 55,
      "outputs": [
        {
          "output_type": "execute_result",
          "data": {
            "text/plain": [
              "Timestamp('2021-01-02 11:00:00+0000', tz='UTC')"
            ]
          },
          "metadata": {},
          "execution_count": 55
        }
      ]
    },
    {
      "cell_type": "code",
      "source": [
        "'''.min untuk menampilkan nilai minimum dari waktu diakhiri perjalanan'''\n",
        "df.trip_end_timestamp.min()"
      ],
      "metadata": {
        "colab": {
          "base_uri": "https://localhost:8080/"
        },
        "id": "YhBePPSvOphb",
        "outputId": "f3c2b623-933a-4730-d7fe-fec0be1097eb"
      },
      "execution_count": 57,
      "outputs": [
        {
          "output_type": "execute_result",
          "data": {
            "text/plain": [
              "Timestamp('2021-01-02 11:30:00+0000', tz='UTC')"
            ]
          },
          "metadata": {},
          "execution_count": 57
        }
      ]
    },
    {
      "cell_type": "code",
      "source": [
        "'''.max untuk menampilkan nilai maksimum dari waktu dimulai perjalanan'''\n",
        "df.trip_start_timestamp.max()"
      ],
      "metadata": {
        "colab": {
          "base_uri": "https://localhost:8080/"
        },
        "id": "cARa0RjdQLpz",
        "outputId": "74be402e-ed34-4adf-a8eb-911312288a53"
      },
      "execution_count": 58,
      "outputs": [
        {
          "output_type": "execute_result",
          "data": {
            "text/plain": [
              "Timestamp('2022-12-31 14:15:00+0000', tz='UTC')"
            ]
          },
          "metadata": {},
          "execution_count": 58
        }
      ]
    },
    {
      "cell_type": "code",
      "source": [
        "'''.max untuk menampilkan nilai maksimum dari waktu diakhiri perjalanan'''\n",
        "df.trip_end_timestamp.max()"
      ],
      "metadata": {
        "colab": {
          "base_uri": "https://localhost:8080/"
        },
        "id": "6MG9HltlQUO6",
        "outputId": "721b997a-03fd-4e18-efd8-d0fbcfb855cc"
      },
      "execution_count": 80,
      "outputs": [
        {
          "output_type": "execute_result",
          "data": {
            "text/plain": [
              "Timestamp('2022-12-31 14:45:00+0000', tz='UTC')"
            ]
          },
          "metadata": {},
          "execution_count": 80
        }
      ]
    },
    {
      "cell_type": "code",
      "source": [
        "#3. Bandingkan jumlah banyaknya perjalanan antara seluruh perusahaan pada tahun 2022?\n",
        "df[['company', 'trip_km']].groupby['trip_km'].mean()"
      ],
      "metadata": {
        "id": "VPo0NufSWjDV"
      },
      "execution_count": null,
      "outputs": []
    },
    {
      "cell_type": "code",
      "source": [
        "#4. Perusahaan mana yang memiliki tarif perjalanan per km termurah?\n"
      ],
      "metadata": {
        "id": "hCAcQgUYXOcU"
      },
      "execution_count": null,
      "outputs": []
    },
    {
      "cell_type": "code",
      "source": [],
      "metadata": {
        "id": "kd2MGGfJXljZ"
      },
      "execution_count": null,
      "outputs": []
    },
    {
      "cell_type": "markdown",
      "source": [
        "**PANDAS**"
      ],
      "metadata": {
        "id": "En7lUAPVXmQE"
      }
    },
    {
      "cell_type": "code",
      "source": [
        "#1. buat kolom baru, dengan nama Keterangan_Waktu\n",
        "'''membuat kolom baru bernama \"keterangan waktu\"'''\n",
        "df = {'Keterangan Waktu' : ['Pagi', 'Siang', 'Sore', 'Malam', 'Dini Hari'],\n",
        "      'Jam' : ['04:00 - 09:59', '10:00 - 15:59', '16:00 - 18:59', '19:00 - 23:59', '00:00 - 03:59']}"
      ],
      "metadata": {
        "id": "5th0u3TtXqdO"
      },
      "execution_count": 81,
      "outputs": []
    }
  ]
}